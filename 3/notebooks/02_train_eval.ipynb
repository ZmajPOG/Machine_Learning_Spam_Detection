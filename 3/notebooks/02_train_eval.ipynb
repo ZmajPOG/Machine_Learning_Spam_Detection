{
 "cells": [
  {
   "cell_type": "markdown",
   "id": "06a1059d",
   "metadata": {},
   "source": [
    "# 02 — Treniranje i evaluacija modela"
   ]
  },
  {
   "cell_type": "code",
   "execution_count": null,
   "id": "8a60b486",
   "metadata": {},
   "outputs": [
    {
     "name": "stdout",
     "output_type": "stream",
     "text": [
      "Best threshold (cost-min): 0.68 cost: 17\n"
     ]
    }
   ],
   "source": [
    "# 4 - threshold/cost analysis (XGBoost)\n",
    "import numpy as np, pandas as pd\n",
    "from sklearn.metrics import confusion_matrix\n",
    "\n",
    "c_fp, c_fn = 1, 5\n",
    "ths = np.linspace(0, 1, 101)\n",
    "rows, best = [], (None, 1e18)\n",
    "\n",
    "for t in ths:\n",
    "    y_hat = (y_proba_xgb >= t).astype(int)\n",
    "    tn, fp, fn, tp = confusion_matrix(y_test_bin, y_hat).ravel()\n",
    "    cost = c_fp*fp + c_fn*fn\n",
    "    rows.append({\"threshold\": float(t), \"TP\": int(tp), \"FP\": int(fp), \"FN\": int(fn), \"TN\": int(tn), \"cost\": int(cost)})\n",
    "    if cost < best[1]:\n",
    "        best = (t, cost)\n",
    "\n",
    "pd.DataFrame(rows).to_csv(os.path.join(FIG_DIR, \"threshold_sweep_xgb.csv\"), index=False)\n",
    "print(\"Best threshold (cost-min):\", round(best[0], 3), \"cost:\", best[1])\n"
   ]
  },
  {
   "cell_type": "code",
   "execution_count": null,
   "id": "679f99e6",
   "metadata": {},
   "outputs": [
    {
     "data": {
      "text/html": [
       "<div>\n",
       "<style scoped>\n",
       "    .dataframe tbody tr th:only-of-type {\n",
       "        vertical-align: middle;\n",
       "    }\n",
       "\n",
       "    .dataframe tbody tr th {\n",
       "        vertical-align: top;\n",
       "    }\n",
       "\n",
       "    .dataframe thead th {\n",
       "        text-align: right;\n",
       "    }\n",
       "</style>\n",
       "<table border=\"1\" class=\"dataframe\">\n",
       "  <thead>\n",
       "    <tr style=\"text-align: right;\">\n",
       "      <th></th>\n",
       "      <th>model</th>\n",
       "      <th>TP</th>\n",
       "      <th>FP</th>\n",
       "      <th>FN</th>\n",
       "      <th>TN</th>\n",
       "    </tr>\n",
       "  </thead>\n",
       "  <tbody>\n",
       "    <tr>\n",
       "      <th>0</th>\n",
       "      <td>MultinomialNB</td>\n",
       "      <td>84</td>\n",
       "      <td>3</td>\n",
       "      <td>1</td>\n",
       "      <td>91</td>\n",
       "    </tr>\n",
       "    <tr>\n",
       "      <th>1</th>\n",
       "      <td>LinearSVC</td>\n",
       "      <td>83</td>\n",
       "      <td>1</td>\n",
       "      <td>2</td>\n",
       "      <td>93</td>\n",
       "    </tr>\n",
       "    <tr>\n",
       "      <th>2</th>\n",
       "      <td>XGBoost</td>\n",
       "      <td>82</td>\n",
       "      <td>7</td>\n",
       "      <td>3</td>\n",
       "      <td>87</td>\n",
       "    </tr>\n",
       "  </tbody>\n",
       "</table>\n",
       "</div>"
      ],
      "text/plain": [
       "           model  TP  FP  FN  TN\n",
       "0  MultinomialNB  84   3   1  91\n",
       "1      LinearSVC  83   1   2  93\n",
       "2        XGBoost  82   7   3  87"
      ]
     },
     "execution_count": 8,
     "metadata": {},
     "output_type": "execute_result"
    }
   ],
   "source": [
    "# 3 - FP/FN summary\n",
    "import pandas as pd\n",
    "from sklearn.metrics import confusion_matrix\n",
    "\n",
    "summary = []\n",
    "for name, y_pred in [(\"MultinomialNB\", y_pred_nb), (\"LinearSVC\", y_pred_svc), (\"XGBoost\", y_pred_xgb)]:\n",
    "    tn, fp, fn, tp = confusion_matrix(y_test, y_pred, labels=[\"ham\",\"spam\"]).ravel()\n",
    "    summary.append({\"model\": name, \"TP\": int(tp), \"FP\": int(fp), \"FN\": int(fn), \"TN\": int(tn)})\n",
    "\n",
    "df_fpfn = pd.DataFrame(summary)\n",
    "df_fpfn.to_csv(os.path.join(FIG_DIR, \"fp_fn_summary.csv\"), index=False)\n",
    "df_fpfn\n"
   ]
  },
  {
   "cell_type": "code",
   "execution_count": null,
   "id": "8e53673e",
   "metadata": {},
   "outputs": [
    {
     "name": "stdout",
     "output_type": "stream",
     "text": [
      "Cell B OK — XGBoost added; y_pred_xgb & y_proba_xgb exist.\n"
     ]
    }
   ],
   "source": [
    "# 2 - XGBoost + ROC/PR\n",
    "import numpy as np, os, matplotlib.pyplot as plt, json\n",
    "from xgboost import XGBClassifier\n",
    "from sklearn.metrics import classification_report, ConfusionMatrixDisplay, roc_curve, auc, precision_recall_curve\n",
    "\n",
    "y_train_bin = (y_train == \"spam\").astype(int)\n",
    "\n",
    "xgb = XGBClassifier(\n",
    "    n_estimators=300, max_depth=5, learning_rate=0.1,\n",
    "    subsample=0.8, colsample_bytree=0.8, n_jobs=-1, eval_metric=\"logloss\"\n",
    ")\n",
    "xgb.fit(X_train_vec, y_train_bin)\n",
    "\n",
    "y_pred_xgb_bin = xgb.predict(X_test_vec)\n",
    "y_pred_xgb = np.where(y_pred_xgb_bin == 1, \"spam\", \"ham\")\n",
    "report_xgb = classification_report(y_test, y_pred_xgb, output_dict=True, zero_division=0)\n",
    "results[\"XGBoost\"] = report_xgb\n",
    "\n",
    "disp = ConfusionMatrixDisplay.from_predictions(y_test, y_pred_xgb, labels=[\"ham\",\"spam\"], normalize=\"true\")\n",
    "disp.ax_.set_title(\"Confusion Matrix — XGBoost (normalized)\")\n",
    "disp.figure_.savefig(os.path.join(FIG_DIR, \"cm_XGBoost.png\"), bbox_inches=\"tight\"); plt.close(disp.figure_)\n",
    "\n",
    "y_proba_xgb = xgb.predict_proba(X_test_vec)[:, 1]\n",
    "fpr, tpr, _ = roc_curve(y_test_bin, y_proba_xgb); roc_auc = auc(fpr, tpr)\n",
    "fig = plt.figure(); plt.plot(fpr,tpr,label=f\"AUC={roc_auc:.3f}\"); plt.title(\"ROC — XGBoost\"); plt.xlabel(\"FPR\"); plt.ylabel(\"TPR\"); plt.legend()\n",
    "fig.savefig(os.path.join(FIG_DIR, \"roc_xgb.png\"), bbox_inches=\"tight\"); plt.close(fig)\n",
    "\n",
    "precision, recall, _ = precision_recall_curve(y_test_bin, y_proba_xgb)\n",
    "fig = plt.figure(); plt.plot(recall, precision); plt.title(\"Precision-Recall — XGBoost\"); plt.xlabel(\"Recall\"); plt.ylabel(\"Precision\")\n",
    "fig.savefig(os.path.join(FIG_DIR, \"pr_xgb.png\"), bbox_inches=\"tight\"); plt.close(fig)\n",
    "\n",
    "with open(os.path.join(FIG_DIR, \"classification_reports.json\"), \"w\", encoding=\"utf-8\") as f:\n",
    "    json.dump(results, f, indent=2)\n",
    "\n",
    "print(\"Cell B OK — XGBoost added; y_pred_xgb & y_proba_xgb exist.\")\n"
   ]
  },
  {
   "cell_type": "code",
   "execution_count": null,
   "id": "5599e010",
   "metadata": {},
   "outputs": [
    {
     "name": "stdout",
     "output_type": "stream",
     "text": [
      "Cell A OK — variables ready: y_train, y_test, y_test_bin, X_*_vec, y_pred_nb, y_pred_svc, y_proba_nb, results.\n"
     ]
    }
   ],
   "source": [
    "# 1 - TF-IDF, NB + SVC, basic plots, results\n",
    "import os, json, numpy as np, pandas as pd, matplotlib.pyplot as plt\n",
    "from sklearn.model_selection import train_test_split\n",
    "from sklearn.feature_extraction.text import TfidfVectorizer\n",
    "from sklearn.naive_bayes import MultinomialNB\n",
    "from sklearn.svm import LinearSVC\n",
    "from sklearn.metrics import classification_report, ConfusionMatrixDisplay, roc_curve, auc, precision_recall_curve, confusion_matrix\n",
    "\n",
    "CSV_PATH = \"../data/processed/dataset.csv\"\n",
    "FIG_DIR  = \"../reports/figures\"\n",
    "os.makedirs(FIG_DIR, exist_ok=True)\n",
    "\n",
    "\n",
    "df = pd.read_csv(CSV_PATH)\n",
    "X_train, X_test, y_train, y_test = train_test_split(\n",
    "    df[\"text\"], df[\"label\"], test_size=0.2, stratify=df[\"label\"], random_state=42\n",
    ")\n",
    "\n",
    "tfidf = TfidfVectorizer(max_features=5000, ngram_range=(1,2), stop_words=\"english\")\n",
    "X_train_vec = tfidf.fit_transform(X_train)\n",
    "X_test_vec  = tfidf.transform(X_test)\n",
    "\n",
    "results = {}\n",
    "\n",
    "\n",
    "nb = MultinomialNB()\n",
    "nb.fit(X_train_vec, y_train)\n",
    "y_pred_nb = nb.predict(X_test_vec)\n",
    "y_proba_nb = nb.predict_proba(X_test_vec)[:, list(nb.classes_).index(\"spam\")]\n",
    "report_nb  = classification_report(y_test, y_pred_nb, output_dict=True, zero_division=0)\n",
    "results[\"MultinomialNB\"] = report_nb\n",
    "disp = ConfusionMatrixDisplay.from_predictions(y_test, y_pred_nb, labels=[\"ham\",\"spam\"], normalize=\"true\")\n",
    "disp.ax_.set_title(\"Confusion Matrix — MultinomialNB (normalized)\")\n",
    "disp.figure_.savefig(os.path.join(FIG_DIR, \"cm_MultinomialNB.png\"), bbox_inches=\"tight\"); plt.close(disp.figure_)\n",
    "y_test_bin = (y_test == \"spam\").astype(int)\n",
    "fpr, tpr, _ = roc_curve(y_test_bin, y_proba_nb); roc_auc = auc(fpr,tpr)\n",
    "fig = plt.figure(); plt.plot(fpr,tpr,label=f\"AUC={roc_auc:.3f}\"); plt.title(\"ROC — MultinomialNB\"); plt.xlabel(\"FPR\"); plt.ylabel(\"TPR\"); plt.legend()\n",
    "fig.savefig(os.path.join(FIG_DIR, \"roc_nb.png\"), bbox_inches=\"tight\"); plt.close(fig)\n",
    "precision, recall, _ = precision_recall_curve(y_test_bin, y_proba_nb)\n",
    "fig = plt.figure(); plt.plot(recall, precision); plt.title(\"Precision-Recall — MultinomialNB\"); plt.xlabel(\"Recall\"); plt.ylabel(\"Precision\")\n",
    "fig.savefig(os.path.join(FIG_DIR, \"pr_nb.png\"), bbox_inches=\"tight\"); plt.close(fig)\n",
    "\n",
    "\n",
    "svc = LinearSVC()\n",
    "svc.fit(X_train_vec, y_train)\n",
    "y_pred_svc = svc.predict(X_test_vec)\n",
    "report_svc = classification_report(y_test, y_pred_svc, output_dict=True, zero_division=0)\n",
    "results[\"LinearSVC\"] = report_svc\n",
    "disp = ConfusionMatrixDisplay.from_predictions(y_test, y_pred_svc, labels=[\"ham\",\"spam\"], normalize=\"true\")\n",
    "disp.ax_.set_title(\"Confusion Matrix — LinearSVC (normalized)\")\n",
    "disp.figure_.savefig(os.path.join(FIG_DIR, \"cm_LinearSVC.png\"), bbox_inches=\"tight\"); plt.close(disp.figure_)\n",
    "\n",
    "with open(os.path.join(FIG_DIR, \"classification_reports.json\"), \"w\", encoding=\"utf-8\") as f:\n",
    "    json.dump(results, f, indent=2)\n",
    "\n",
    "print(\"Cell A OK — variables ready: y_train, y_test, y_test_bin, X_*_vec, y_pred_nb, y_pred_svc, y_proba_nb, results.\")\n"
   ]
  },
  {
   "cell_type": "code",
   "execution_count": null,
   "id": "f1e9c308",
   "metadata": {},
   "outputs": [
    {
     "ename": "NameError",
     "evalue": "name 'y_proba_xgb' is not defined",
     "output_type": "error",
     "traceback": [
      "\u001b[31m---------------------------------------------------------------------------\u001b[39m",
      "\u001b[31mNameError\u001b[39m                                 Traceback (most recent call last)",
      "\u001b[36mCell\u001b[39m\u001b[36m \u001b[39m\u001b[32mIn[5]\u001b[39m\u001b[32m, line 8\u001b[39m\n\u001b[32m      6\u001b[39m rows = []\n\u001b[32m      7\u001b[39m \u001b[38;5;28;01mfor\u001b[39;00m t \u001b[38;5;129;01min\u001b[39;00m ths:\n\u001b[32m----> \u001b[39m\u001b[32m8\u001b[39m     y_hat = (\u001b[43my_proba_xgb\u001b[49m >= t).astype(\u001b[38;5;28mint\u001b[39m)\n\u001b[32m      9\u001b[39m     cm = confusion_matrix(y_test_bin, y_hat)\n\u001b[32m     10\u001b[39m     tn, fp, fn, tp = cm.ravel()\n",
      "\u001b[31mNameError\u001b[39m: name 'y_proba_xgb' is not defined"
     ]
    }
   ],
   "source": [
    "import numpy as np\n",
    "\n",
    "c_fp, c_fn = 1, 5\n",
    "ths = np.linspace(0,1,101)\n",
    "best = (None, 1e18)\n",
    "rows = []\n",
    "for t in ths:\n",
    "    y_hat = (y_proba_xgb >= t).astype(int)\n",
    "    cm = confusion_matrix(y_test_bin, y_hat)\n",
    "    tn, fp, fn, tp = cm.ravel()\n",
    "    cost = c_fp*fp + c_fn*fn\n",
    "    rows.append({\"threshold\": float(t), \"TP\": int(tp), \"FP\": int(fp), \"FN\": int(fn), \"TN\": int(tn), \"cost\": int(cost)})\n",
    "    if cost < best[1]: best = (t, cost)\n",
    "pd.DataFrame(rows).to_csv(os.path.join(FIG_DIR, \"threshold_sweep_xgb.csv\"), index=False)\n",
    "print(\"Best threshold (cost-min):\", round(best[0],3), \"cost:\", best[1])\n"
   ]
  },
  {
   "cell_type": "code",
   "execution_count": 4,
   "id": "20168ac1",
   "metadata": {},
   "outputs": [
    {
     "ename": "NameError",
     "evalue": "name 'y_pred_nb' is not defined",
     "output_type": "error",
     "traceback": [
      "\u001b[31m---------------------------------------------------------------------------\u001b[39m",
      "\u001b[31mNameError\u001b[39m                                 Traceback (most recent call last)",
      "\u001b[36mCell\u001b[39m\u001b[36m \u001b[39m\u001b[32mIn[4]\u001b[39m\u001b[32m, line 5\u001b[39m\n\u001b[32m      2\u001b[39m \u001b[38;5;28;01mfrom\u001b[39;00m\u001b[38;5;250m \u001b[39m\u001b[34;01msklearn\u001b[39;00m\u001b[34;01m.\u001b[39;00m\u001b[34;01mmetrics\u001b[39;00m\u001b[38;5;250m \u001b[39m\u001b[38;5;28;01mimport\u001b[39;00m confusion_matrix\n\u001b[32m      4\u001b[39m summary = []\n\u001b[32m----> \u001b[39m\u001b[32m5\u001b[39m \u001b[38;5;28;01mfor\u001b[39;00m name, y_pred \u001b[38;5;129;01min\u001b[39;00m [(\u001b[33m\"\u001b[39m\u001b[33mMultinomialNB\u001b[39m\u001b[33m\"\u001b[39m, \u001b[43my_pred_nb\u001b[49m), (\u001b[33m\"\u001b[39m\u001b[33mLinearSVC\u001b[39m\u001b[33m\"\u001b[39m, y_pred_svc), (\u001b[33m\"\u001b[39m\u001b[33mXGBoost\u001b[39m\u001b[33m\"\u001b[39m, y_pred_xgb)]:\n\u001b[32m      6\u001b[39m     cm = confusion_matrix(y_test, y_pred, labels=[\u001b[33m\"\u001b[39m\u001b[33mham\u001b[39m\u001b[33m\"\u001b[39m,\u001b[33m\"\u001b[39m\u001b[33mspam\u001b[39m\u001b[33m\"\u001b[39m])\n\u001b[32m      7\u001b[39m     tn, fp, fn, tp = cm.ravel()\n",
      "\u001b[31mNameError\u001b[39m: name 'y_pred_nb' is not defined"
     ]
    }
   ],
   "source": [
    "import pandas as pd\n",
    "from sklearn.metrics import confusion_matrix\n",
    "\n",
    "summary = []\n",
    "for name, y_pred in [(\"MultinomialNB\", y_pred_nb), (\"LinearSVC\", y_pred_svc), (\"XGBoost\", y_pred_xgb)]:\n",
    "    cm = confusion_matrix(y_test, y_pred, labels=[\"ham\",\"spam\"])\n",
    "    tn, fp, fn, tp = cm.ravel()\n",
    "    summary.append({\"model\": name, \"TP\": int(tp), \"FP\": int(fp), \"FN\": int(fn), \"TN\": int(tn)})\n",
    "\n",
    "df_fpfn = pd.DataFrame(summary)\n",
    "df_fpfn.to_csv(os.path.join(FIG_DIR, \"fp_fn_summary.csv\"), index=False)\n",
    "df_fpfn\n"
   ]
  },
  {
   "cell_type": "code",
   "execution_count": null,
   "id": "bf46ab54",
   "metadata": {},
   "outputs": [
    {
     "ename": "NameError",
     "evalue": "name 'y_train' is not defined",
     "output_type": "error",
     "traceback": [
      "\u001b[31m---------------------------------------------------------------------------\u001b[39m",
      "\u001b[31mNameError\u001b[39m                                 Traceback (most recent call last)",
      "\u001b[36mCell\u001b[39m\u001b[36m \u001b[39m\u001b[32mIn[3]\u001b[39m\u001b[32m, line 8\u001b[39m\n\u001b[32m      5\u001b[39m \u001b[38;5;28;01mfrom\u001b[39;00m\u001b[38;5;250m \u001b[39m\u001b[34;01mxgboost\u001b[39;00m\u001b[38;5;250m \u001b[39m\u001b[38;5;28;01mimport\u001b[39;00m XGBClassifier\n\u001b[32m      7\u001b[39m \u001b[38;5;66;03m# binarne etikete za treniranje\u001b[39;00m\n\u001b[32m----> \u001b[39m\u001b[32m8\u001b[39m y_train_bin = (\u001b[43my_train\u001b[49m == \u001b[33m\"\u001b[39m\u001b[33mspam\u001b[39m\u001b[33m\"\u001b[39m).astype(\u001b[38;5;28mint\u001b[39m)\n\u001b[32m      9\u001b[39m y_test_bin  = (y_test  == \u001b[33m\"\u001b[39m\u001b[33mspam\u001b[39m\u001b[33m\"\u001b[39m).astype(\u001b[38;5;28mint\u001b[39m)\n\u001b[32m     11\u001b[39m xgb = XGBClassifier(\n\u001b[32m     12\u001b[39m     n_estimators=\u001b[32m300\u001b[39m, max_depth=\u001b[32m5\u001b[39m, learning_rate=\u001b[32m0.1\u001b[39m,\n\u001b[32m     13\u001b[39m     subsample=\u001b[32m0.8\u001b[39m, colsample_bytree=\u001b[32m0.8\u001b[39m, n_jobs=-\u001b[32m1\u001b[39m, eval_metric=\u001b[33m\"\u001b[39m\u001b[33mlogloss\u001b[39m\u001b[33m\"\u001b[39m\n\u001b[32m     14\u001b[39m )\n",
      "\u001b[31mNameError\u001b[39m: name 'y_train' is not defined"
     ]
    }
   ],
   "source": [
    "#not good I think\n",
    "import numpy as np, os\n",
    "from sklearn.metrics import classification_report, ConfusionMatrixDisplay, roc_curve, auc, precision_recall_curve\n",
    "\n",
    "\n",
    "from xgboost import XGBClassifier\n",
    "\n",
    "\n",
    "y_train_bin = (y_train == \"spam\").astype(int)\n",
    "y_test_bin  = (y_test  == \"spam\").astype(int)\n",
    "\n",
    "xgb = XGBClassifier(\n",
    "    n_estimators=300, max_depth=5, learning_rate=0.1,\n",
    "    subsample=0.8, colsample_bytree=0.8, n_jobs=-1, eval_metric=\"logloss\"\n",
    ")\n",
    "xgb.fit(X_train_vec, y_train_bin)\n",
    "\n",
    "\n",
    "y_pred_xgb_bin = xgb.predict(X_test_vec)\n",
    "y_pred_xgb = np.where(y_pred_xgb_bin == 1, \"spam\", \"ham\")\n",
    "report_xgb = classification_report(y_test, y_pred_xgb, output_dict=True, zero_division=0)\n",
    "results[\"XGBoost\"] = report_xgb\n",
    "\n",
    "\n",
    "disp = ConfusionMatrixDisplay.from_predictions(y_test, y_pred_xgb, labels=[\"ham\",\"spam\"], normalize='true')\n",
    "disp.ax_.set_title(\"Confusion Matrix — XGBoost (normalized)\")\n",
    "fig = disp.figure_\n",
    "fig.savefig(os.path.join(FIG_DIR, \"cm_XGBoost.png\"), bbox_inches=\"tight\")\n",
    "\n",
    "\n",
    "y_proba_xgb = xgb.predict_proba(X_test_vec)[:,1]\n",
    "fpr, tpr, _ = roc_curve(y_test_bin, y_proba_xgb); roc_auc = auc(fpr, tpr)\n",
    "fig = plt.figure(); plt.plot(fpr, tpr, label=f\"AUC={roc_auc:.3f}\"); plt.title(\"ROC — XGBoost\"); plt.xlabel(\"FPR\"); plt.ylabel(\"TPR\"); plt.legend()\n",
    "fig.savefig(os.path.join(FIG_DIR, \"roc_xgb.png\"), bbox_inches=\"tight\"); plt.close(fig)\n",
    "\n",
    "precision, recall, _ = precision_recall_curve(y_test_bin, y_proba_xgb)\n",
    "fig = plt.figure(); plt.plot(recall, precision); plt.title(\"Precision-Recall — XGBoost\"); plt.xlabel(\"Recall\"); plt.ylabel(\"Precision\")\n",
    "fig.savefig(os.path.join(FIG_DIR, \"pr_xgb.png\"), bbox_inches=\"tight\"); plt.close(fig)\n"
   ]
  },
  {
   "cell_type": "code",
   "execution_count": null,
   "id": "c4afac7e",
   "metadata": {},
   "outputs": [
    {
     "name": "stdout",
     "output_type": "stream",
     "text": [
      "Gotovi izveštaji i grafici su u: ../reports/figures\n",
      "{\n",
      "  \"MultinomialNB\": {\n",
      "    \"ham\": {\n",
      "      \"precision\": 0.9891304347826086,\n",
      "      \"recall\": 0.9680851063829787,\n",
      "      \"f1-score\": 0.978494623655914,\n",
      "      \"support\": 94.0\n",
      "    },\n",
      "    \"spam\": {\n",
      "      \"precision\": 0.9655172413793104,\n",
      "      \"recall\": 0.9882352941176471,\n",
      "      \"f1-score\": 0.9767441860465116,\n",
      "      \"support\": 85.0\n",
      "    },\n",
      "    \"accuracy\": 0.9776536312849162,\n",
      "    \"macro avg\": {\n",
      "      \"precision\": 0.9773238380809595,\n",
      "      \"recall\": 0.9781602002503129,\n",
      "      \"f1-score\": 0.9776194048512128,\n",
      "      \"support\": 179.0\n",
      "    },\n",
      "    \"weighted avg\": {\n",
      "      \"precision\": 0.9779174658480815,\n",
      "      \"recall\": 0.9776536312849162,\n",
      "      \"f1-score\": 0.9776634102659744,\n",
      "      \"support\": 179.0\n",
      "    }\n",
      "  },\n",
      "  \"LinearSVC\": {\n",
      "    \"ham\": {\n",
      "      \"precision\": 0.9789473684210527,\n",
      "      \"recall\": 0.9893617021276596,\n",
      "      \"f1-score\": 0.9841269841269841,\n",
      "      \"support\": 94.0\n",
      "    },\n",
      "    \"spam\": {\n",
      "      \"precision\": 0.9880952380952381,\n",
      "      \"recall\": 0.9764705882352941,\n",
      "      \"f1-score\": 0.9822485207100592,\n",
      "      \"support\": 85.0\n",
      "    },\n",
      "    \"accuracy\": 0.9832402234636871,\n",
      "    \"macro avg\": {\n",
      "      \"precision\": 0.9835213032581454,\n",
      "      \"recall\": 0.9829161451814769,\n",
      "      \"f1-score\": 0.9831877524185216,\n",
      "      \"support\": 179.0\n",
      "    },\n",
      "    \"weighted avg\": {\n",
      "      \"precision\": 0.9832913288808615,\n",
      "      \"recall\": 0.9832402234636871,\n",
      "      \"f1-score\": 0.9832349763591707,\n",
      "      \"support\": 179.0\n",
      "    }\n",
      "  }\n",
      "}\n"
     ]
    }
   ],
   "source": [
    "\n",
    "import os, json\n",
    "import sys\n",
    "\n",
    "sys.path.append(os.path.abspath(os.path.join(os.getcwd(), \"..\")))\n",
    "\n",
    "from src.models import train_and_evaluate\n",
    "\n",
    "\n",
    "CSV_PATH = \"../data/processed/dataset.csv\"\n",
    "FIG_DIR  = \"../reports/figures\"\n",
    "\n",
    "\n",
    "results = train_and_evaluate(CSV_PATH, FIG_DIR)\n",
    "print(\"Gotovi izveštaji i grafici su u:\", FIG_DIR)\n",
    "print(json.dumps(results, indent=2))\n"
   ]
  },
  {
   "cell_type": "code",
   "execution_count": null,
   "id": "7e79ef83",
   "metadata": {},
   "outputs": [],
   "source": []
  }
 ],
 "metadata": {
  "kernelspec": {
   "display_name": "Python 3",
   "language": "python",
   "name": "python3"
  },
  "language_info": {
   "codemirror_mode": {
    "name": "ipython",
    "version": 3
   },
   "file_extension": ".py",
   "mimetype": "text/x-python",
   "name": "python",
   "nbconvert_exporter": "python",
   "pygments_lexer": "ipython3",
   "version": "3.11.3"
  }
 },
 "nbformat": 4,
 "nbformat_minor": 5
}
